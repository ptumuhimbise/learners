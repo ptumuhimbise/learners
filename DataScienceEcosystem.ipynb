{
 "cells": [
  {
   "cell_type": "markdown",
   "id": "31fb9ba8-b8f5-43c8-8c90-b1cd1dab0045",
   "metadata": {},
   "source": [
    "# Data Science Tools and Ecosystem"
   ]
  },
  {
   "cell_type": "markdown",
   "id": "f6fa30b1-0d44-4185-bc5b-023e9455eb8a",
   "metadata": {},
   "source": [
    "In this notebook, Data Science Tools and Ecosystem are summarized."
   ]
  },
  {
   "cell_type": "markdown",
   "id": "58b5e87d-66d2-4b77-8b4c-90a801eb0d39",
   "metadata": {},
   "source": [
    "Objectives:\n",
    "- List popular languages for Data Science\n",
    "- Name commonly used libraries used by data scientists\n",
    "- List tools used in data science"
   ]
  },
  {
   "cell_type": "markdown",
   "id": "c06ce281-8683-42b0-b44d-b76a28c67d1c",
   "metadata": {},
   "source": [
    "Some of the popular languages that Data Scientists use are:\n",
    "1. R\n",
    "2. Python\n",
    "3. SQL"
   ]
  },
  {
   "cell_type": "markdown",
   "id": "da5bb9e1-00a0-4cce-a1a8-d7be7a58848a",
   "metadata": {},
   "source": [
    "| *Data Science Tools:* |\n",
    "|----|\n",
    "| R studio |\n",
    "| Jupyter |\n",
    "| Visual Studio |"
   ]
  },
  {
   "cell_type": "markdown",
   "id": "4f805a8d-de93-498d-8555-b1e9cd93b11c",
   "metadata": {},
   "source": [
    "Some of the commonly used libraries used by Data Scientists include:\n",
    "1. Pandas\n",
    "2. Numpy\n",
    "3. Seaborn"
   ]
  },
  {
   "cell_type": "markdown",
   "id": "71b51626-acd4-4825-96ae-764b93dc6db2",
   "metadata": {},
   "source": [
    "### Below are a few examples of evaluating arithmetic expressions in Python"
   ]
  },
  {
   "cell_type": "code",
   "execution_count": 4,
   "id": "1ecbee9f-51f3-4a5e-bf26-8ae9d878e3ea",
   "metadata": {},
   "outputs": [
    {
     "data": {
      "text/plain": [
       "17"
      ]
     },
     "execution_count": 4,
     "metadata": {},
     "output_type": "execute_result"
    }
   ],
   "source": [
    "# This a simple arithmetic expression to mutiply then add integers\n",
    "(3*4)+5"
   ]
  },
  {
   "cell_type": "code",
   "execution_count": 13,
   "id": "96679373-e3c0-4d02-8a8b-d0d3fc61903e",
   "metadata": {},
   "outputs": [
    {
     "name": "stdout",
     "output_type": "stream",
     "text": [
      "3.3333333333333335\n"
     ]
    }
   ],
   "source": [
    "# This will convert 200 minutes to hours by diving by 60\n",
    "x = 200/60\n",
    "print(x)"
   ]
  },
  {
   "cell_type": "markdown",
   "id": "1d14e64e-ca9f-480f-b2a1-4e58ac6b8133",
   "metadata": {},
   "source": [
    "## Author\n",
    "Tumuhimbise Peninah"
   ]
  },
  {
   "cell_type": "code",
   "execution_count": null,
   "id": "26da25bc-ae44-49b0-b4b2-5e6457408348",
   "metadata": {},
   "outputs": [],
   "source": []
  }
 ],
 "metadata": {
  "kernelspec": {
   "display_name": "Python 3 (ipykernel)",
   "language": "python",
   "name": "python3"
  },
  "language_info": {
   "codemirror_mode": {
    "name": "ipython",
    "version": 3
   },
   "file_extension": ".py",
   "mimetype": "text/x-python",
   "name": "python",
   "nbconvert_exporter": "python",
   "pygments_lexer": "ipython3",
   "version": "3.10.11"
  }
 },
 "nbformat": 4,
 "nbformat_minor": 5
}
